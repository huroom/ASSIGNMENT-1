{
 "cells": [
  {
   "cell_type": "code",
   "execution_count": 2,
   "metadata": {},
   "outputs": [
    {
     "name": "stdout",
     "output_type": "stream",
     "text": [
      "Python version is:\n",
      "3.8.5 (default, Sep  3 2020, 21:29:08) [MSC v.1916 64 bit (AMD64)]\n"
     ]
    }
   ],
   "source": [
    "import sys\n",
    "\n",
    "print(\"Python version is:\");\n",
    "print (sys.version);\n"
   ]
  },
  {
   "cell_type": "code",
   "execution_count": 16,
   "metadata": {},
   "outputs": [
    {
     "name": "stdout",
     "output_type": "stream",
     "text": [
      "\n",
      "Twinkle, twinkle, little star, \n",
      "     How i wonder what you are!  \n",
      "             Up above the world so high,  \n",
      "             Like a diomond in the sky.\n",
      "Twinkle, twinkle, little star, \n",
      "     How i wonder what you are!\n"
     ]
    }
   ],
   "source": [
    "t1 = \"\\nTwinkle, twinkle, little star,\"\n",
    "t2 = \" \\n     How i wonder what you are!\"\n",
    "t3 =\"  \\n             Up above the world so high,\"\n",
    "t4 =\"  \\n             Like a diomond in the sky.\"\n",
    "print(t1+t2+t3+t4+t1+t2);"
   ]
  },
  {
   "cell_type": "code",
   "execution_count": 12,
   "metadata": {},
   "outputs": [
    {
     "name": "stdout",
     "output_type": "stream",
     "text": [
      "Current date and time : \n",
      "2022-01-01 22:35:03\n"
     ]
    }
   ],
   "source": [
    "x = datetime.datetime.now()\n",
    "print (\"Current date and time : \");\n",
    "print (x.strftime(\"%Y-%m-%d %H:%M:%S\"));"
   ]
  },
  {
   "cell_type": "code",
   "execution_count": 15,
   "metadata": {},
   "outputs": [
    {
     "name": "stdout",
     "output_type": "stream",
     "text": [
      "Input the radius of the circle : 5\n",
      "The area of the circle of radius 5.0 is: 78.5\n"
     ]
    }
   ],
   "source": [
    "radius = float(input (\"Input the radius of the circle : \"));\n",
    "\n",
    "computeArea = str(3.14 * radius**2);\n",
    "print (\"The area of the circle of radius \" + str(radius) + \" is: \" + computeArea);\n"
   ]
  },
  {
   "cell_type": "code",
   "execution_count": 33,
   "metadata": {},
   "outputs": [
    {
     "name": "stdout",
     "output_type": "stream",
     "text": [
      "Type your First Name: HUROOM\n",
      "Type your Last Name: ASLAM\n",
      "ASLAM\tHUROOM\n"
     ]
    }
   ],
   "source": [
    "firstName = input(\"Type your First Name: \");\n",
    "lastName = input(\"Type your Last Name: \");\n",
    "print (lastName+ \"\\t\" + firstName);\n"
   ]
  },
  {
   "cell_type": "code",
   "execution_count": 36,
   "metadata": {},
   "outputs": [
    {
     "name": "stdout",
     "output_type": "stream",
     "text": [
      "Enter the Number 1 for addition: 5\n",
      "Enter the Number 2 for addition: 5\n",
      "10\n"
     ]
    }
   ],
   "source": [
    "a1 = int(input(\"Enter the Number 1 for addition: \"));\n",
    "a2 = int(input(\"Enter the Number 2 for addition: \"));\n",
    "print (a1+a2);\n",
    "\n"
   ]
  },
  {
   "cell_type": "code",
   "execution_count": null,
   "metadata": {},
   "outputs": [],
   "source": []
  }
 ],
 "metadata": {
  "kernelspec": {
   "display_name": "Python 3",
   "language": "python",
   "name": "python3"
  },
  "language_info": {
   "codemirror_mode": {
    "name": "ipython",
    "version": 3
   },
   "file_extension": ".py",
   "mimetype": "text/x-python",
   "name": "python",
   "nbconvert_exporter": "python",
   "pygments_lexer": "ipython3",
   "version": "3.8.5"
  }
 },
 "nbformat": 4,
 "nbformat_minor": 4
}
